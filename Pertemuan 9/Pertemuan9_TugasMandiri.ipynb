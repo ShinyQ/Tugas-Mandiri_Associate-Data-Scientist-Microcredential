{
 "cells": [
  {
   "cell_type": "markdown",
   "id": "d57d62f8",
   "metadata": {},
   "source": [
    "# Hands-On\n",
    "---\n",
    "\n",
    "Hands-On ini digunakan pada kegiatan Microcredential Associate Data Scientist 2021"
   ]
  },
  {
   "cell_type": "markdown",
   "id": "afcc8ef8",
   "metadata": {},
   "source": [
    "# Pertemuan 9\n",
    "---\n",
    "Pertemuan 9 (sembilan) pada Microcredential Associate Data Scientist 2021 menyampaikan materi mengenai Mengkonstruksi Data"
   ]
  },
  {
   "cell_type": "markdown",
   "id": "ec93c66e",
   "metadata": {},
   "source": [
    "## Pada Tugas Mandiri Pertemuan 9 \n",
    "\n",
    "#### silakan Anda kerjakan Latihan 1 s/d 10. Output yang anda lihat merupakan panduan yang dapat Anda ikuti dalam penulisan code :)"
   ]
  },
  {
   "cell_type": "markdown",
   "id": "296142b0",
   "metadata": {},
   "source": [
    "# Latihan (1)\n",
    "\n",
    "### Melakukan import library yang dibutuhkan"
   ]
  },
  {
   "cell_type": "code",
   "execution_count": 1,
   "id": "12a26b6b",
   "metadata": {},
   "outputs": [],
   "source": [
    "# import library pandas\n",
    "import pandas as pd\n",
    "\n",
    "# Import library scipy\n",
    "import scipy \n",
    "\n",
    "# Import library winsorize dari scipy\n",
    "from scipy.stats.mstats import winsorize\n",
    "\n",
    "# Import library trima dari scipy\n",
    "from scipy.stats.mstats import trima\n",
    "\n",
    "# Import library RandomSampleImputer dari feature engine imputation\n",
    "from feature_engine.imputation import RandomSampleImputer\n",
    "\n",
    "# import library StandardScaler dari sklearn\n",
    "from sklearn.preprocessing import StandardScaler"
   ]
  },
  {
   "cell_type": "markdown",
   "id": "910ae971",
   "metadata": {},
   "source": [
    "# Latihan (2)\n",
    "\n",
    "### Menghitung nilai null pada dataset :\n",
    "\n",
    "    1. Load dataset Iris_Unclean\n",
    "    2. Tampilkan dataset\n",
    "    3. Hitung jumlah nilai null pada dataset"
   ]
  },
  {
   "cell_type": "code",
   "execution_count": 2,
   "id": "8e556b05",
   "metadata": {},
   "outputs": [],
   "source": [
    "# load dataset Iris_Unclean\n",
    "df = pd.read_csv('Iris_unclean.csv') "
   ]
  },
  {
   "cell_type": "code",
   "execution_count": 3,
   "id": "85627815",
   "metadata": {},
   "outputs": [
    {
     "data": {
      "text/html": [
       "<div>\n",
       "<style scoped>\n",
       "    .dataframe tbody tr th:only-of-type {\n",
       "        vertical-align: middle;\n",
       "    }\n",
       "\n",
       "    .dataframe tbody tr th {\n",
       "        vertical-align: top;\n",
       "    }\n",
       "\n",
       "    .dataframe thead th {\n",
       "        text-align: right;\n",
       "    }\n",
       "</style>\n",
       "<table border=\"1\" class=\"dataframe\">\n",
       "  <thead>\n",
       "    <tr style=\"text-align: right;\">\n",
       "      <th></th>\n",
       "      <th>SepalLengthCm</th>\n",
       "      <th>SepalWidthCm</th>\n",
       "      <th>PetalLengthCm</th>\n",
       "      <th>PetalWidthCm</th>\n",
       "      <th>Species</th>\n",
       "    </tr>\n",
       "  </thead>\n",
       "  <tbody>\n",
       "    <tr>\n",
       "      <th>0</th>\n",
       "      <td>NaN</td>\n",
       "      <td>3.5</td>\n",
       "      <td>1.4</td>\n",
       "      <td>0.2</td>\n",
       "      <td>Iris-setosa</td>\n",
       "    </tr>\n",
       "    <tr>\n",
       "      <th>1</th>\n",
       "      <td>4.9</td>\n",
       "      <td>2000.0</td>\n",
       "      <td>1.4</td>\n",
       "      <td>0.2</td>\n",
       "      <td>Iris-setosa</td>\n",
       "    </tr>\n",
       "    <tr>\n",
       "      <th>2</th>\n",
       "      <td>4.7</td>\n",
       "      <td>3.2</td>\n",
       "      <td>-1.3</td>\n",
       "      <td>0.2</td>\n",
       "      <td>Iris-setosa</td>\n",
       "    </tr>\n",
       "    <tr>\n",
       "      <th>3</th>\n",
       "      <td>4.6</td>\n",
       "      <td>3.1</td>\n",
       "      <td>1.5</td>\n",
       "      <td>0.2</td>\n",
       "      <td>Iris-setosa</td>\n",
       "    </tr>\n",
       "    <tr>\n",
       "      <th>4</th>\n",
       "      <td>5.0</td>\n",
       "      <td>3.6</td>\n",
       "      <td>1.4</td>\n",
       "      <td>0.2</td>\n",
       "      <td>Iris-setosa</td>\n",
       "    </tr>\n",
       "    <tr>\n",
       "      <th>...</th>\n",
       "      <td>...</td>\n",
       "      <td>...</td>\n",
       "      <td>...</td>\n",
       "      <td>...</td>\n",
       "      <td>...</td>\n",
       "    </tr>\n",
       "    <tr>\n",
       "      <th>145</th>\n",
       "      <td>6.7</td>\n",
       "      <td>3.0</td>\n",
       "      <td>5.2</td>\n",
       "      <td>2.3</td>\n",
       "      <td>Iris-virginica</td>\n",
       "    </tr>\n",
       "    <tr>\n",
       "      <th>146</th>\n",
       "      <td>6.3</td>\n",
       "      <td>2.5</td>\n",
       "      <td>5.0</td>\n",
       "      <td>1.9</td>\n",
       "      <td>Iris-virginica</td>\n",
       "    </tr>\n",
       "    <tr>\n",
       "      <th>147</th>\n",
       "      <td>6.5</td>\n",
       "      <td>3.0</td>\n",
       "      <td>5.2</td>\n",
       "      <td>2.0</td>\n",
       "      <td>Iris-virginica</td>\n",
       "    </tr>\n",
       "    <tr>\n",
       "      <th>148</th>\n",
       "      <td>6.2</td>\n",
       "      <td>3.4</td>\n",
       "      <td>5.4</td>\n",
       "      <td>2.3</td>\n",
       "      <td>Iris-virginica</td>\n",
       "    </tr>\n",
       "    <tr>\n",
       "      <th>149</th>\n",
       "      <td>5.9</td>\n",
       "      <td>3.0</td>\n",
       "      <td>5.1</td>\n",
       "      <td>1.8</td>\n",
       "      <td>Iris-virginica</td>\n",
       "    </tr>\n",
       "  </tbody>\n",
       "</table>\n",
       "<p>150 rows × 5 columns</p>\n",
       "</div>"
      ],
      "text/plain": [
       "     SepalLengthCm  SepalWidthCm  PetalLengthCm  PetalWidthCm         Species\n",
       "0              NaN           3.5            1.4           0.2     Iris-setosa\n",
       "1              4.9        2000.0            1.4           0.2     Iris-setosa\n",
       "2              4.7           3.2           -1.3           0.2     Iris-setosa\n",
       "3              4.6           3.1            1.5           0.2     Iris-setosa\n",
       "4              5.0           3.6            1.4           0.2     Iris-setosa\n",
       "..             ...           ...            ...           ...             ...\n",
       "145            6.7           3.0            5.2           2.3  Iris-virginica\n",
       "146            6.3           2.5            5.0           1.9  Iris-virginica\n",
       "147            6.5           3.0            5.2           2.0  Iris-virginica\n",
       "148            6.2           3.4            5.4           2.3  Iris-virginica\n",
       "149            5.9           3.0            5.1           1.8  Iris-virginica\n",
       "\n",
       "[150 rows x 5 columns]"
      ]
     },
     "execution_count": 3,
     "metadata": {},
     "output_type": "execute_result"
    }
   ],
   "source": [
    "# tampilkan dataset\n",
    "df"
   ]
  },
  {
   "cell_type": "code",
   "execution_count": 4,
   "id": "f9f84ae7",
   "metadata": {},
   "outputs": [
    {
     "data": {
      "text/plain": [
       "SepalLengthCm    2\n",
       "SepalWidthCm     0\n",
       "PetalLengthCm    0\n",
       "PetalWidthCm     0\n",
       "Species          0\n",
       "dtype: int64"
      ]
     },
     "execution_count": 4,
     "metadata": {},
     "output_type": "execute_result"
    }
   ],
   "source": [
    "# hitung jumlah nilai null pada dataset\n",
    "df.isna().sum()"
   ]
  },
  {
   "cell_type": "markdown",
   "id": "4fb76245",
   "metadata": {},
   "source": [
    "# Latihan (3)\n",
    "\n",
    "### Melakukan handle missing value dengan Imputasi Mean:\n",
    "\n",
    "     1. Load dataset Iris_Unclean\n",
    "     2. Ambil 10 data teratas \"SepalLengthCm\", kemudian tampilkan\n",
    "     3. Mengganti missing value Imputasi dengan mean, kemudian masukkan ke variable\n",
    "     4. Tampilkan 10 data teratas \"SepalLengthCm\" setelah handle missing value dengan Imputasi mean()"
   ]
  },
  {
   "cell_type": "code",
   "execution_count": 5,
   "id": "d81cbac5",
   "metadata": {},
   "outputs": [],
   "source": [
    "# load dataset Iris_Unclean\n",
    "df = pd.read_csv('Iris_unclean.csv')"
   ]
  },
  {
   "cell_type": "code",
   "execution_count": 6,
   "id": "14a9b64e",
   "metadata": {},
   "outputs": [
    {
     "data": {
      "text/plain": [
       "0    NaN\n",
       "1    4.9\n",
       "2    4.7\n",
       "3    4.6\n",
       "4    5.0\n",
       "5    5.4\n",
       "6    NaN\n",
       "7    5.0\n",
       "8    4.4\n",
       "9    4.9\n",
       "Name: SepalLengthCm, dtype: float64"
      ]
     },
     "execution_count": 6,
     "metadata": {},
     "output_type": "execute_result"
    }
   ],
   "source": [
    "# ambil 10 data teratas SepalLengthCm, kemudian tampilkan\n",
    "df = df['SepalLengthCm'].head(10)\n",
    "df"
   ]
  },
  {
   "cell_type": "code",
   "execution_count": 7,
   "id": "7db11cee",
   "metadata": {},
   "outputs": [],
   "source": [
    "# mengganti missing value dengan mean(), kemudian masukkan ke variabel\n",
    "df = df.fillna(df.mean())"
   ]
  },
  {
   "cell_type": "code",
   "execution_count": 8,
   "id": "d8708392",
   "metadata": {},
   "outputs": [
    {
     "data": {
      "text/plain": [
       "0    4.8625\n",
       "1    4.9000\n",
       "2    4.7000\n",
       "3    4.6000\n",
       "4    5.0000\n",
       "5    5.4000\n",
       "6    4.8625\n",
       "7    5.0000\n",
       "8    4.4000\n",
       "9    4.9000\n",
       "Name: SepalLengthCm, dtype: float64"
      ]
     },
     "execution_count": 8,
     "metadata": {},
     "output_type": "execute_result"
    }
   ],
   "source": [
    "# tampilkan 10 data teratas SepalLengthCm setelah handle missing value dengan imputasi mean\n",
    "df"
   ]
  },
  {
   "cell_type": "markdown",
   "id": "ffc520e0",
   "metadata": {},
   "source": [
    "# Latihan (4)\n",
    "\n",
    "### Melakukan handle missing value dengan nilai suka-suka (Arbitrary):\n",
    "\n",
    "     1. Load dataset Iris_Unclean\n",
    "     2. Ambil 10 data teratas \"SepalLengthCm\", kemudian tampilkan\n",
    "     3. Mengganti missing value dengan imputasi nilai suka-suka (Arbitrary), kemudian masukkan ke variable\n",
    "     4. Tampilkan 10 data teratas \"SepalLengthCm\" setelah handle missing value dengan nilai suka-suka "
   ]
  },
  {
   "cell_type": "code",
   "execution_count": 9,
   "id": "f6d89b20",
   "metadata": {},
   "outputs": [],
   "source": [
    "# load dataset Iris_Unclean\n",
    "df = pd.read_csv('Iris_unclean.csv')"
   ]
  },
  {
   "cell_type": "code",
   "execution_count": 10,
   "id": "41d6177f",
   "metadata": {},
   "outputs": [
    {
     "data": {
      "text/plain": [
       "0    NaN\n",
       "1    4.9\n",
       "2    4.7\n",
       "3    4.6\n",
       "4    5.0\n",
       "5    5.4\n",
       "6    NaN\n",
       "7    5.0\n",
       "8    4.4\n",
       "9    4.9\n",
       "Name: SepalLengthCm, dtype: float64"
      ]
     },
     "execution_count": 10,
     "metadata": {},
     "output_type": "execute_result"
    }
   ],
   "source": [
    "# ambil 10 data teratas SepalLengthCm, kemudian tampilkan\n",
    "\n",
    "df = df['SepalLengthCm'].head(10)\n",
    "df"
   ]
  },
  {
   "cell_type": "code",
   "execution_count": 11,
   "id": "6304b7f6",
   "metadata": {},
   "outputs": [],
   "source": [
    "# melakukan imputasi nilai suka-suka (Arbitrary), masukkan ke dalam variabel\n",
    "\n",
    "df = df.fillna(99)"
   ]
  },
  {
   "cell_type": "code",
   "execution_count": 12,
   "id": "998b1ef5",
   "metadata": {},
   "outputs": [
    {
     "data": {
      "text/plain": [
       "0    99.0\n",
       "1     4.9\n",
       "2     4.7\n",
       "3     4.6\n",
       "4     5.0\n",
       "5     5.4\n",
       "6    99.0\n",
       "7     5.0\n",
       "8     4.4\n",
       "9     4.9\n",
       "Name: SepalLengthCm, dtype: float64"
      ]
     },
     "execution_count": 12,
     "metadata": {},
     "output_type": "execute_result"
    }
   ],
   "source": [
    "# tampilkan 10 data teratas SepalLengthCm setelah handle missing value dengan nilai suka-suka (arbitary)\n",
    "df"
   ]
  },
  {
   "cell_type": "markdown",
   "id": "218f5b1d",
   "metadata": {},
   "source": [
    "# Latihan (5)\n",
    "\n",
    "### Melakukan handle missing value dengan frequent category / modus:\n",
    "\n",
    "     1. Load dataset Iris_Unclean\n",
    "     2. Ambil 10 data teratas \"SepalLengthCm\", kemudian tampilkan\n",
    "     3. Mengganti missing value dengan frequent category / modus\n",
    "     4. Tampilkan hasil imputasi \"SepalLengthCm\" setelah handle dengan frequent category / modus"
   ]
  },
  {
   "cell_type": "code",
   "execution_count": 13,
   "id": "5f2c9c3d",
   "metadata": {},
   "outputs": [],
   "source": [
    "# load dataset Iris_Unclean\n",
    "df = pd.read_csv('Iris_unclean.csv')"
   ]
  },
  {
   "cell_type": "code",
   "execution_count": 14,
   "id": "87430ef7",
   "metadata": {},
   "outputs": [
    {
     "data": {
      "text/plain": [
       "0    NaN\n",
       "1    4.9\n",
       "2    4.7\n",
       "3    4.6\n",
       "4    5.0\n",
       "5    5.4\n",
       "6    NaN\n",
       "7    5.0\n",
       "8    4.4\n",
       "9    4.9\n",
       "Name: SepalLengthCm, dtype: float64"
      ]
     },
     "execution_count": 14,
     "metadata": {},
     "output_type": "execute_result"
    }
   ],
   "source": [
    "# tampilkan 10 data teratas kolom SepalLengthCm\n",
    "df['SepalLengthCm'].head(10)"
   ]
  },
  {
   "cell_type": "code",
   "execution_count": 15,
   "id": "3ec36289",
   "metadata": {},
   "outputs": [],
   "source": [
    "# Import SimpleImputer dari sklearn.impute\n",
    "from sklearn.impute import SimpleImputer\n",
    "\n",
    "# Mengatasi missing value dengan frequent category / modus\n",
    "imp = SimpleImputer(strategy='most_frequent')\n"
   ]
  },
  {
   "cell_type": "code",
   "execution_count": 16,
   "id": "b9fd73b1",
   "metadata": {},
   "outputs": [
    {
     "data": {
      "text/plain": [
       "array([[5. ],\n",
       "       [4.9],\n",
       "       [4.7],\n",
       "       [4.6],\n",
       "       [5. ],\n",
       "       [5.4],\n",
       "       [5. ],\n",
       "       [5. ],\n",
       "       [4.4],\n",
       "       [4.9],\n",
       "       [5.4],\n",
       "       [4.8],\n",
       "       [4.8],\n",
       "       [4.3],\n",
       "       [5.8],\n",
       "       [5.7],\n",
       "       [5.4],\n",
       "       [5.1],\n",
       "       [5.7],\n",
       "       [5.1],\n",
       "       [5.4],\n",
       "       [5.1],\n",
       "       [4.6],\n",
       "       [5.1],\n",
       "       [4.8],\n",
       "       [5. ],\n",
       "       [5. ],\n",
       "       [5.2],\n",
       "       [5.2],\n",
       "       [4.7],\n",
       "       [4.8],\n",
       "       [5.4],\n",
       "       [5.2],\n",
       "       [5.5],\n",
       "       [4.9],\n",
       "       [5. ],\n",
       "       [5.5],\n",
       "       [4.9],\n",
       "       [4.4],\n",
       "       [5.1],\n",
       "       [5. ],\n",
       "       [4.5],\n",
       "       [4.4],\n",
       "       [5. ],\n",
       "       [5.1],\n",
       "       [4.8],\n",
       "       [5.1],\n",
       "       [4.6],\n",
       "       [5.3],\n",
       "       [5. ],\n",
       "       [7. ],\n",
       "       [6.4],\n",
       "       [6.9],\n",
       "       [5.5],\n",
       "       [6.5],\n",
       "       [5.7],\n",
       "       [6.3],\n",
       "       [4.9],\n",
       "       [6.6],\n",
       "       [5.2],\n",
       "       [5. ],\n",
       "       [5.9],\n",
       "       [6. ],\n",
       "       [6.1],\n",
       "       [5.6],\n",
       "       [6.7],\n",
       "       [5.6],\n",
       "       [5.8],\n",
       "       [6.2],\n",
       "       [5.6],\n",
       "       [5.9],\n",
       "       [6.1],\n",
       "       [6.3],\n",
       "       [6.1],\n",
       "       [6.4],\n",
       "       [6.6],\n",
       "       [6.8],\n",
       "       [6.7],\n",
       "       [6. ],\n",
       "       [5.7],\n",
       "       [5.5],\n",
       "       [5.5],\n",
       "       [5.8],\n",
       "       [6. ],\n",
       "       [5.4],\n",
       "       [6. ],\n",
       "       [6.7],\n",
       "       [6.3],\n",
       "       [5.6],\n",
       "       [5.5],\n",
       "       [5.5],\n",
       "       [6.1],\n",
       "       [5.8],\n",
       "       [5. ],\n",
       "       [5.6],\n",
       "       [5.7],\n",
       "       [5.7],\n",
       "       [6.2],\n",
       "       [5.1],\n",
       "       [5.7],\n",
       "       [6.3],\n",
       "       [5.8],\n",
       "       [7.1],\n",
       "       [6.3],\n",
       "       [6.5],\n",
       "       [7.6],\n",
       "       [4.9],\n",
       "       [7.3],\n",
       "       [6.7],\n",
       "       [7.2],\n",
       "       [6.5],\n",
       "       [6.4],\n",
       "       [6.8],\n",
       "       [5.7],\n",
       "       [5.8],\n",
       "       [6.4],\n",
       "       [6.5],\n",
       "       [7.7],\n",
       "       [7.7],\n",
       "       [6. ],\n",
       "       [6.9],\n",
       "       [5.6],\n",
       "       [7.7],\n",
       "       [6.3],\n",
       "       [6.7],\n",
       "       [7.2],\n",
       "       [6.2],\n",
       "       [6.1],\n",
       "       [6.4],\n",
       "       [7.2],\n",
       "       [7.4],\n",
       "       [7.9],\n",
       "       [6.4],\n",
       "       [6.3],\n",
       "       [6.1],\n",
       "       [7.7],\n",
       "       [6.3],\n",
       "       [6.4],\n",
       "       [6. ],\n",
       "       [6.9],\n",
       "       [6.7],\n",
       "       [6.9],\n",
       "       [5.8],\n",
       "       [6.8],\n",
       "       [6.7],\n",
       "       [6.7],\n",
       "       [6.3],\n",
       "       [6.5],\n",
       "       [6.2],\n",
       "       [5.9]])"
      ]
     },
     "execution_count": 16,
     "metadata": {},
     "output_type": "execute_result"
    }
   ],
   "source": [
    "# Tampilkan hasil imputasi \"SepalLengthCm\"\n",
    "\n",
    "imp.fit_transform(df[[\"SepalLengthCm\"]])"
   ]
  },
  {
   "cell_type": "markdown",
   "id": "aa135aae",
   "metadata": {},
   "source": [
    "# Latihan (6)\n",
    "\n",
    "### Melakukan handle missing value dengan Imputasi Random Sample:\n",
    "\n",
    "     1. Load dataset Iris_Unclean\n",
    "     2. Tampilkan 10 data teratas\n",
    "     3. Membuat imputer random sample dengan random state = 5\n",
    "     4. Cocokan imputer ke data\n",
    "     5. Ubah data dengan imputer masukkan ke dalam variable\n",
    "     6. Tampilkan hasil imputasi data \"SepalLengthCm\""
   ]
  },
  {
   "cell_type": "code",
   "execution_count": 17,
   "id": "05ea0bcf",
   "metadata": {},
   "outputs": [],
   "source": [
    "# load dataset Iris_Unclean\n",
    "data = pd.read_csv('Iris_unclean.csv')"
   ]
  },
  {
   "cell_type": "code",
   "execution_count": 18,
   "id": "8d70788e",
   "metadata": {},
   "outputs": [
    {
     "data": {
      "text/plain": [
       "0    NaN\n",
       "1    4.9\n",
       "2    4.7\n",
       "3    4.6\n",
       "4    5.0\n",
       "5    5.4\n",
       "6    NaN\n",
       "7    5.0\n",
       "8    4.4\n",
       "9    4.9\n",
       "Name: SepalLengthCm, dtype: float64"
      ]
     },
     "execution_count": 18,
     "metadata": {},
     "output_type": "execute_result"
    }
   ],
   "source": [
    "# tampilkan 10 data teratas SepalLengthCm\n",
    "data['SepalLengthCm'].head(10)\n"
   ]
  },
  {
   "cell_type": "code",
   "execution_count": 19,
   "id": "78cd2a4a",
   "metadata": {},
   "outputs": [],
   "source": [
    "# Membuat imputer random sample dengan random state = 5\n",
    "imputer = RandomSampleImputer(random_state=5)\n",
    "\n",
    "# Cocokan imputer ke data\n",
    "imputer.fit(data)\n",
    "\n",
    "# Ubah data dengan imputer masukkan ke dalam variable\n",
    "test_t = imputer.transform(data)\n"
   ]
  },
  {
   "cell_type": "code",
   "execution_count": 35,
   "id": "c391d5ef",
   "metadata": {},
   "outputs": [
    {
     "data": {
      "text/plain": [
       "0    5.8\n",
       "1    4.9\n",
       "2    4.7\n",
       "3    4.6\n",
       "4    5.0\n",
       "5    5.4\n",
       "6    6.9\n",
       "7    5.0\n",
       "8    4.4\n",
       "9    4.9\n",
       "Name: SepalLengthCm, dtype: float64"
      ]
     },
     "execution_count": 35,
     "metadata": {},
     "output_type": "execute_result"
    }
   ],
   "source": [
    "# Tampilkan data hasil imputasi data \"SepalLengthCm\"\n",
    "test_t['SepalLengthCm'].head(10)\n"
   ]
  },
  {
   "cell_type": "markdown",
   "id": "b183faa8",
   "metadata": {},
   "source": [
    "# Latihan (7)\n",
    "\n",
    "### Melakukan Winsorizing\n",
    "\n",
    "    1. Import library winsorize dari scipy\n",
    "    2. Load data Iris_AfterClean\n",
    "    3. Ambil 10 data teratas \"SepalLengthCm\", kemudian masukkan ke dalam variabel datan tampilkan\n",
    "    4. Winsorize data dengan batas nilai terendah 10% dan batas nilai tinggi 20%\n",
    "    5. Tampilkan hasil winsorize"
   ]
  },
  {
   "cell_type": "code",
   "execution_count": 21,
   "id": "1136245b",
   "metadata": {},
   "outputs": [],
   "source": [
    "# Import library scipy\n",
    "import scipy"
   ]
  },
  {
   "cell_type": "code",
   "execution_count": 22,
   "id": "8746ff71",
   "metadata": {},
   "outputs": [
    {
     "data": {
      "text/plain": [
       "0    4.6\n",
       "1    5.0\n",
       "2    5.4\n",
       "3    4.9\n",
       "4    5.4\n",
       "5    4.8\n",
       "6    4.8\n",
       "7    4.3\n",
       "8    5.8\n",
       "9    5.4\n",
       "Name: SepalLengthCm, dtype: float64"
      ]
     },
     "execution_count": 22,
     "metadata": {},
     "output_type": "execute_result"
    }
   ],
   "source": [
    "# Load data Iris_AfterClean\n",
    "data = pd.read_csv('Iris_AfterClean.csv')\n",
    "\n",
    "# Ambil 10 data teratas \"SepalLengthCm\", kemudian masukkan ke dalam variabel datan tampilkan\n",
    "a = data['SepalLengthCm'].head(10)\n",
    "a\n"
   ]
  },
  {
   "cell_type": "code",
   "execution_count": 23,
   "id": "9f91f045",
   "metadata": {},
   "outputs": [
    {
     "name": "stdout",
     "output_type": "stream",
     "text": [
      "[4.6 5.  5.4 4.9 5.4 4.8 4.8 4.6 5.4 5.4]\n"
     ]
    }
   ],
   "source": [
    "# Winsorize data dengan batas nilai terendah 10% dan batas nilai tinggi 20%\n",
    "\n",
    "wins = winsorize(a, limits = [0.1, 0.2])\n",
    "\n",
    "# Tampilkan hasil winsorize\n",
    "print(wins)\n"
   ]
  },
  {
   "cell_type": "markdown",
   "id": "3ddad90b",
   "metadata": {},
   "source": [
    "# Latihan (8)\n",
    "\n",
    "### Melakukan Trimming\n",
    "\n",
    "    1. Import library trima dari scopy\n",
    "    2. Load data Iris_AfterClean\n",
    "    3. Ambil 10 data teratas \"SepalLengthCm\", kemudian masukkan ke dalam variabel datan tampilkan\n",
    "    4. Trimming data dengan batas nilai terendah 2 dan batas nilai tinggi 5\n",
    "    5. Tampilkan hasil trimming"
   ]
  },
  {
   "cell_type": "code",
   "execution_count": 24,
   "id": "066d7abf",
   "metadata": {},
   "outputs": [],
   "source": [
    "# Import library trima dari scopy\n",
    "from scipy.stats.mstats import trima"
   ]
  },
  {
   "cell_type": "code",
   "execution_count": 25,
   "id": "9ab186a5",
   "metadata": {},
   "outputs": [
    {
     "data": {
      "text/plain": [
       "0    4.6\n",
       "1    5.0\n",
       "2    5.4\n",
       "3    4.9\n",
       "4    5.4\n",
       "5    4.8\n",
       "6    4.8\n",
       "7    4.3\n",
       "8    5.8\n",
       "9    5.4\n",
       "Name: SepalLengthCm, dtype: float64"
      ]
     },
     "execution_count": 25,
     "metadata": {},
     "output_type": "execute_result"
    }
   ],
   "source": [
    "# Load data Iris_AfterClean\n",
    "data = pd.read_csv('Iris_AfterClean.csv')\n",
    "\n",
    "# Ambil 10 data teratas \"SepalLengthCm\", kemudian masukkan ke dalam variabel datan tampilkan\n",
    "a = data['SepalLengthCm'].head(10)\n",
    "a"
   ]
  },
  {
   "cell_type": "code",
   "execution_count": 26,
   "id": "d0f8a511",
   "metadata": {},
   "outputs": [
    {
     "name": "stdout",
     "output_type": "stream",
     "text": [
      "[4.6 5.0 -- 4.9 -- 4.8 4.8 4.3 -- --]\n"
     ]
    }
   ],
   "source": [
    "# Trimming data dengan batas nilai terendah 2 dan batas nilai tinggi 5\n",
    "trims = trima(a, limits=(2, 5))\n",
    "\n",
    "# Tampilkan hasil trimming\n",
    "print(trims)"
   ]
  },
  {
   "cell_type": "markdown",
   "id": "31044298",
   "metadata": {},
   "source": [
    "# Latihan (9)\n",
    "\n",
    "### Melakukan Scaling: Normalisasi\n",
    "\n",
    "    1. Load data Iris_AfterClean \n",
    "    2. Ambil 10 data teratas SepalLengthCm dan SepalWidthCm\n",
    "    3. Menghitung mean data\n",
    "    4. Menghitung max - min pada data\n",
    "    5. Menerapkan transformasi ke data\n",
    "    6. Tampilkan hasil scalling"
   ]
  },
  {
   "cell_type": "code",
   "execution_count": 27,
   "id": "ab997af5",
   "metadata": {},
   "outputs": [
    {
     "data": {
      "text/html": [
       "<div>\n",
       "<style scoped>\n",
       "    .dataframe tbody tr th:only-of-type {\n",
       "        vertical-align: middle;\n",
       "    }\n",
       "\n",
       "    .dataframe tbody tr th {\n",
       "        vertical-align: top;\n",
       "    }\n",
       "\n",
       "    .dataframe thead th {\n",
       "        text-align: right;\n",
       "    }\n",
       "</style>\n",
       "<table border=\"1\" class=\"dataframe\">\n",
       "  <thead>\n",
       "    <tr style=\"text-align: right;\">\n",
       "      <th></th>\n",
       "      <th>SepalLengthCm</th>\n",
       "      <th>SepalWidthCm</th>\n",
       "    </tr>\n",
       "  </thead>\n",
       "  <tbody>\n",
       "    <tr>\n",
       "      <th>0</th>\n",
       "      <td>4.6</td>\n",
       "      <td>3.1</td>\n",
       "    </tr>\n",
       "    <tr>\n",
       "      <th>1</th>\n",
       "      <td>5.0</td>\n",
       "      <td>3.6</td>\n",
       "    </tr>\n",
       "    <tr>\n",
       "      <th>2</th>\n",
       "      <td>5.4</td>\n",
       "      <td>3.9</td>\n",
       "    </tr>\n",
       "    <tr>\n",
       "      <th>3</th>\n",
       "      <td>4.9</td>\n",
       "      <td>3.1</td>\n",
       "    </tr>\n",
       "    <tr>\n",
       "      <th>4</th>\n",
       "      <td>5.4</td>\n",
       "      <td>3.7</td>\n",
       "    </tr>\n",
       "    <tr>\n",
       "      <th>5</th>\n",
       "      <td>4.8</td>\n",
       "      <td>3.4</td>\n",
       "    </tr>\n",
       "    <tr>\n",
       "      <th>6</th>\n",
       "      <td>4.8</td>\n",
       "      <td>3.0</td>\n",
       "    </tr>\n",
       "    <tr>\n",
       "      <th>7</th>\n",
       "      <td>4.3</td>\n",
       "      <td>3.0</td>\n",
       "    </tr>\n",
       "    <tr>\n",
       "      <th>8</th>\n",
       "      <td>5.8</td>\n",
       "      <td>4.0</td>\n",
       "    </tr>\n",
       "    <tr>\n",
       "      <th>9</th>\n",
       "      <td>5.4</td>\n",
       "      <td>3.9</td>\n",
       "    </tr>\n",
       "  </tbody>\n",
       "</table>\n",
       "</div>"
      ],
      "text/plain": [
       "   SepalLengthCm  SepalWidthCm\n",
       "0            4.6           3.1\n",
       "1            5.0           3.6\n",
       "2            5.4           3.9\n",
       "3            4.9           3.1\n",
       "4            5.4           3.7\n",
       "5            4.8           3.4\n",
       "6            4.8           3.0\n",
       "7            4.3           3.0\n",
       "8            5.8           4.0\n",
       "9            5.4           3.9"
      ]
     },
     "execution_count": 27,
     "metadata": {},
     "output_type": "execute_result"
    }
   ],
   "source": [
    "# Load data Iris_AfterClean \n",
    "\n",
    "data = pd.read_csv('Iris_AfterClean.csv')\n",
    "\n",
    "# Ambil 10 data teratas SepalLengthCm dan SepalWidthCm\n",
    "\n",
    "data = data[['SepalLengthCm', 'SepalWidthCm']].head(10)\n",
    "data"
   ]
  },
  {
   "cell_type": "code",
   "execution_count": 28,
   "id": "57c8d6de",
   "metadata": {},
   "outputs": [],
   "source": [
    "# Menghitung mean\n",
    "means = data.mean()\n",
    "\n",
    "# menghitung max - min\n",
    "max_min = data.max() - data.min()\n",
    "\n",
    "# menerapkan transformasi ke data\n",
    "train_scaled = (data - means) / max_min\n"
   ]
  },
  {
   "cell_type": "code",
   "execution_count": 29,
   "id": "9247b11c",
   "metadata": {},
   "outputs": [
    {
     "data": {
      "text/html": [
       "<div>\n",
       "<style scoped>\n",
       "    .dataframe tbody tr th:only-of-type {\n",
       "        vertical-align: middle;\n",
       "    }\n",
       "\n",
       "    .dataframe tbody tr th {\n",
       "        vertical-align: top;\n",
       "    }\n",
       "\n",
       "    .dataframe thead th {\n",
       "        text-align: right;\n",
       "    }\n",
       "</style>\n",
       "<table border=\"1\" class=\"dataframe\">\n",
       "  <thead>\n",
       "    <tr style=\"text-align: right;\">\n",
       "      <th></th>\n",
       "      <th>SepalLengthCm</th>\n",
       "      <th>SepalWidthCm</th>\n",
       "    </tr>\n",
       "  </thead>\n",
       "  <tbody>\n",
       "    <tr>\n",
       "      <th>0</th>\n",
       "      <td>-0.293333</td>\n",
       "      <td>-0.37</td>\n",
       "    </tr>\n",
       "    <tr>\n",
       "      <th>1</th>\n",
       "      <td>-0.026667</td>\n",
       "      <td>0.13</td>\n",
       "    </tr>\n",
       "    <tr>\n",
       "      <th>2</th>\n",
       "      <td>0.240000</td>\n",
       "      <td>0.43</td>\n",
       "    </tr>\n",
       "    <tr>\n",
       "      <th>3</th>\n",
       "      <td>-0.093333</td>\n",
       "      <td>-0.37</td>\n",
       "    </tr>\n",
       "    <tr>\n",
       "      <th>4</th>\n",
       "      <td>0.240000</td>\n",
       "      <td>0.23</td>\n",
       "    </tr>\n",
       "    <tr>\n",
       "      <th>5</th>\n",
       "      <td>-0.160000</td>\n",
       "      <td>-0.07</td>\n",
       "    </tr>\n",
       "    <tr>\n",
       "      <th>6</th>\n",
       "      <td>-0.160000</td>\n",
       "      <td>-0.47</td>\n",
       "    </tr>\n",
       "    <tr>\n",
       "      <th>7</th>\n",
       "      <td>-0.493333</td>\n",
       "      <td>-0.47</td>\n",
       "    </tr>\n",
       "    <tr>\n",
       "      <th>8</th>\n",
       "      <td>0.506667</td>\n",
       "      <td>0.53</td>\n",
       "    </tr>\n",
       "    <tr>\n",
       "      <th>9</th>\n",
       "      <td>0.240000</td>\n",
       "      <td>0.43</td>\n",
       "    </tr>\n",
       "  </tbody>\n",
       "</table>\n",
       "</div>"
      ],
      "text/plain": [
       "   SepalLengthCm  SepalWidthCm\n",
       "0      -0.293333         -0.37\n",
       "1      -0.026667          0.13\n",
       "2       0.240000          0.43\n",
       "3      -0.093333         -0.37\n",
       "4       0.240000          0.23\n",
       "5      -0.160000         -0.07\n",
       "6      -0.160000         -0.47\n",
       "7      -0.493333         -0.47\n",
       "8       0.506667          0.53\n",
       "9       0.240000          0.43"
      ]
     },
     "execution_count": 29,
     "metadata": {},
     "output_type": "execute_result"
    }
   ],
   "source": [
    "# Tampilkan hasil scalling\n",
    "train_scaled"
   ]
  },
  {
   "cell_type": "markdown",
   "id": "887be660",
   "metadata": {},
   "source": [
    "# Latihan (10)\n",
    "\n",
    "### Melakukan Scaling: Standardisasi\n",
    "\n",
    "    1. Load data Iris_AfterClean \n",
    "    2. Ambil 10 data teratas SepalLengthCm dan SepalWidthCm\n",
    "    2. Import library StandardScaler dari sklearn\n",
    "    3. Membuat objek scaler\n",
    "    4. Sesuaikan scaler dengan data\n",
    "    5. Mengubah data \n",
    "    6. Tampilkan hasil scalling dengan standarisasi"
   ]
  },
  {
   "cell_type": "code",
   "execution_count": 32,
   "id": "bf973bbb",
   "metadata": {},
   "outputs": [
    {
     "data": {
      "text/html": [
       "<div>\n",
       "<style scoped>\n",
       "    .dataframe tbody tr th:only-of-type {\n",
       "        vertical-align: middle;\n",
       "    }\n",
       "\n",
       "    .dataframe tbody tr th {\n",
       "        vertical-align: top;\n",
       "    }\n",
       "\n",
       "    .dataframe thead th {\n",
       "        text-align: right;\n",
       "    }\n",
       "</style>\n",
       "<table border=\"1\" class=\"dataframe\">\n",
       "  <thead>\n",
       "    <tr style=\"text-align: right;\">\n",
       "      <th></th>\n",
       "      <th>SepalLengthCm</th>\n",
       "      <th>SepalWidthCm</th>\n",
       "    </tr>\n",
       "  </thead>\n",
       "  <tbody>\n",
       "    <tr>\n",
       "      <th>0</th>\n",
       "      <td>4.6</td>\n",
       "      <td>3.1</td>\n",
       "    </tr>\n",
       "    <tr>\n",
       "      <th>1</th>\n",
       "      <td>5.0</td>\n",
       "      <td>3.6</td>\n",
       "    </tr>\n",
       "    <tr>\n",
       "      <th>2</th>\n",
       "      <td>5.4</td>\n",
       "      <td>3.9</td>\n",
       "    </tr>\n",
       "    <tr>\n",
       "      <th>3</th>\n",
       "      <td>4.9</td>\n",
       "      <td>3.1</td>\n",
       "    </tr>\n",
       "    <tr>\n",
       "      <th>4</th>\n",
       "      <td>5.4</td>\n",
       "      <td>3.7</td>\n",
       "    </tr>\n",
       "    <tr>\n",
       "      <th>5</th>\n",
       "      <td>4.8</td>\n",
       "      <td>3.4</td>\n",
       "    </tr>\n",
       "    <tr>\n",
       "      <th>6</th>\n",
       "      <td>4.8</td>\n",
       "      <td>3.0</td>\n",
       "    </tr>\n",
       "    <tr>\n",
       "      <th>7</th>\n",
       "      <td>4.3</td>\n",
       "      <td>3.0</td>\n",
       "    </tr>\n",
       "    <tr>\n",
       "      <th>8</th>\n",
       "      <td>5.8</td>\n",
       "      <td>4.0</td>\n",
       "    </tr>\n",
       "    <tr>\n",
       "      <th>9</th>\n",
       "      <td>5.4</td>\n",
       "      <td>3.9</td>\n",
       "    </tr>\n",
       "  </tbody>\n",
       "</table>\n",
       "</div>"
      ],
      "text/plain": [
       "   SepalLengthCm  SepalWidthCm\n",
       "0            4.6           3.1\n",
       "1            5.0           3.6\n",
       "2            5.4           3.9\n",
       "3            4.9           3.1\n",
       "4            5.4           3.7\n",
       "5            4.8           3.4\n",
       "6            4.8           3.0\n",
       "7            4.3           3.0\n",
       "8            5.8           4.0\n",
       "9            5.4           3.9"
      ]
     },
     "execution_count": 32,
     "metadata": {},
     "output_type": "execute_result"
    }
   ],
   "source": [
    "# Load data Iris_AfterClean \n",
    "data = pd.read_csv('Iris_AfterClean.csv')\n",
    "\n",
    "# Ambil 10 data teratas SepalLengthCm dan SepalWidthCm\n",
    "\n",
    "data = data[['SepalLengthCm', 'SepalWidthCm']].head(10)\n",
    "data\n"
   ]
  },
  {
   "cell_type": "code",
   "execution_count": 33,
   "id": "60dabbd7",
   "metadata": {},
   "outputs": [],
   "source": [
    "# import library StandardScaler dari sklearn\n",
    "from sklearn.preprocessing import StandardScaler\n",
    "\n",
    "# Buat objek scaler\n",
    "scaler = StandardScaler()\n",
    "\n",
    "# Sesuaikan scaler dengan data\n",
    "scaler.fit(data)\n",
    "\n",
    "# Mengubah data\n",
    "train_scaled = scaler.fit_transform(data)"
   ]
  },
  {
   "cell_type": "code",
   "execution_count": 34,
   "id": "0a689660",
   "metadata": {},
   "outputs": [
    {
     "data": {
      "text/plain": [
       "array([[-1.02464215, -0.97469723],\n",
       "       [-0.09314929,  0.34246119],\n",
       "       [ 0.83834358,  1.13275625],\n",
       "       [-0.3260225 , -0.97469723],\n",
       "       [ 0.83834358,  0.60589288],\n",
       "       [-0.55889572, -0.18440218],\n",
       "       [-0.55889572, -1.23812892],\n",
       "       [-1.7232618 , -1.23812892],\n",
       "       [ 1.76983644,  1.39618793],\n",
       "       [ 0.83834358,  1.13275625]])"
      ]
     },
     "execution_count": 34,
     "metadata": {},
     "output_type": "execute_result"
    }
   ],
   "source": [
    "# Tampilkan hasil\n",
    "train_scaled"
   ]
  }
 ],
 "metadata": {
  "kernelspec": {
   "display_name": "Python 3",
   "language": "python",
   "name": "python3"
  },
  "language_info": {
   "codemirror_mode": {
    "name": "ipython",
    "version": 3
   },
   "file_extension": ".py",
   "mimetype": "text/x-python",
   "name": "python",
   "nbconvert_exporter": "python",
   "pygments_lexer": "ipython3",
   "version": "3.9.0"
  }
 },
 "nbformat": 4,
 "nbformat_minor": 5
}
